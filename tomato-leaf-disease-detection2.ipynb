{
 "cells": [
  {
   "cell_type": "code",
   "execution_count": null,
   "id": "ae08c251",
   "metadata": {},
   "outputs": [],
   "source": [
    "import numpy as np  # For numerical computations and array operations\n",
    "import pickle  # For saving and loading serialized Python objects (like models or encoders)\n",
    "import cv2  # OpenCV library for image processing\n",
    "from os import listdir  # For listing files in directories\n",
    "\n",
    "# Preprocessing and encoding\n",
    "from sklearn.preprocessing import LabelBinarizer, MultiLabelBinarizer  # For one-hot encoding of labels\n",
    "\n",
    "# Keras deep learning imports\n",
    "from keras.models import Sequential  # For creating a linear stack of layers\n",
    "from keras.layers.normalization import BatchNormalization  # For normalizing layer activations\n",
    "from keras.layers.convolutional import Conv2D, MaxPooling2D  # For convolution and pooling layers\n",
    "from keras.layers.core import Activation, Flatten, Dropout, Dense  # Core layers: activations, flattening, dropout, dense\n",
    "from keras import backend as K  # For backend configuration and utilities\n",
    "\n",
    "# Keras utilities for preprocessing images\n",
    "from keras.preprocessing.image import ImageDataGenerator  # For real-time image data augmentation\n",
    "from keras.optimizers import Adam  # Optimizer for training the model\n",
    "from keras.preprocessing import image  # For image loading and preprocessing\n",
    "from keras.preprocessing.image import img_to_array  # Converts a PIL image to a NumPy array\n",
    "\n",
    "# Scikit-learn utilities\n",
    "from sklearn.model_selection import train_test_split  # For splitting data into training and test sets\n",
    "\n",
    "# Matplotlib for plotting\n",
    "import matplotlib.pyplot as plt  # For visualization of training progress, images, etc."
   ]
  },
  {
   "cell_type": "code",
   "execution_count": null,
   "id": "8086c1f0",
   "metadata": {},
   "outputs": [],
   "source": [
    "# Number of times the entire training dataset will be passed through the model\n",
    "EPOCHS = 25  \n",
    "\n",
    "# Initial learning rate for the optimizer (controls how fast the model learns)\n",
    "INIT_LR = 1e-3  \n",
    "\n",
    "# Batch size — number of training samples to work through before the model updates weights\n",
    "BS = 32  \n",
    "\n",
    "# Target size for all input images (width, height)\n",
    "default_image_size = tuple((256, 256))  \n",
    "\n",
    "# Placeholder for image size (can be set later based on dataset)\n",
    "image_size = 0  \n",
    "\n",
    "# Root directory containing subfolders of image data\n",
    "directory_root = '..'  \n",
    "\n",
    "# Width, height, and depth (number of color channels — 3 for RGB)\n",
    "width = 256  \n",
    "height = 256  \n",
    "depth = 3  \n",
    "  \n",
    "\n"
   ]
  },
  {
   "cell_type": "code",
   "execution_count": null,
   "id": "3f54790b",
   "metadata": {},
   "outputs": [],
   "source": [
    "# Initialize lists to hold image data and their corresponding labels\n",
    "image_list, label_list = [], []\n",
    "\n",
    "try:\n",
    "    print(\"[INFO] Loading images ...\")\n",
    "\n",
    "    # List all folders in the root directory (e.g., plant types)\n",
    "    root_dir = listdir(directory_root)\n",
    "\n",
    "    # Remove macOS system file if present\n",
    "    for directory in root_dir:\n",
    "        if directory == \".DS_Store\":\n",
    "            root_dir.remove(directory)\n",
    "\n",
    "    # Loop through each plant category folder\n",
    "    for plant_folder in root_dir:\n",
    "        # List all disease-specific folders inside each plant category\n",
    "        plant_disease_folder_list = listdir(f\"{directory_root}/{plant_folder}\")\n",
    "\n",
    "        # Remove .DS_Store from disease folders\n",
    "        for disease_folder in plant_disease_folder_list:\n",
    "            if disease_folder == \".DS_Store\":\n",
    "                plant_disease_folder_list.remove(disease_folder)\n",
    "\n",
    "        # Loop through each plant disease folder\n",
    "        for plant_disease_folder in plant_disease_folder_list:\n",
    "            print(f\"[INFO] Processing {plant_disease_folder} ...\")\n",
    "\n",
    "            # Get list of image files in the disease folder\n",
    "            plant_disease_image_list = listdir(f\"{directory_root}/{plant_folder}/{plant_disease_folder}/\")\n",
    "\n",
    "            # Remove .DS_Store if present in the image list\n",
    "            for single_plant_disease_image in plant_disease_image_list:\n",
    "                if single_plant_disease_image == \".DS_Store\":\n",
    "                    plant_disease_image_list.remove(single_plant_disease_image)\n",
    "\n",
    "            # Limit to first 200 images (can help manage dataset size during testing/training)\n",
    "            for image in plant_disease_image_list[:200]:\n",
    "                # Build the complete path to the image file\n",
    "                image_directory = f\"{directory_root}/{plant_folder}/{plant_disease_folder}/{image}\"\n",
    "\n",
    "                # Only process JPG files\n",
    "                if image_directory.endswith(\".jpg\") or image_directory.endswith(\".JPG\"):\n",
    "                    # Convert image to array and add to list\n",
    "                    image_array = convert_image_to_array(image_directory)\n",
    "                    image_list.append(image_array)\n",
    "\n",
    "                    # Append corresponding label (disease folder name)\n",
    "                    label_list.append(plant_disease_folder)\n",
    "\n",
    "    print(\"[INFO] Image loading completed\")  \n",
    "\n",
    "except Exception as e:\n",
    "    # Catch and print any error that occurs during loading\n",
    "    print(f\"Error : {e}\")\n"
   ]
  },
  {
   "cell_type": "code",
   "execution_count": null,
   "metadata": {},
   "outputs": [],
   "source": [
    "image_size = len(image_list)"
   ]
  },
  {
   "cell_type": "code",
   "execution_count": null,
   "id": "6d39090e",
   "metadata": {},
   "outputs": [],
   "source": [
    "# Initialize the LabelBinarizer to convert string labels into one-hot encoded vectors\n",
    "label_binarizer = LabelBinarizer()\n",
    "\n",
    "# Fit the label binarizer on the collected labels and transform them into one-hot encoded format\n",
    "image_labels = label_binarizer.fit_transform(label_list)\n",
    "\n",
    "# Save the fitted label binarizer to a file so it can be reused later (e.g., during inference)\n",
    "pickle.dump(label_binarizer, open('label_transform.pkl', 'wb'))\n",
    "\n",
    "# Get the total number of unique classes (i.e., plant diseases)\n",
    "n_classes = len(label_binarizer.classes_)\n"
   ]
  },
  {
   "cell_type": "code",
   "execution_count": null,
   "id": "1d02f77f",
   "metadata": {},
   "outputs": [],
   "source": [
    "print(label_binarizer.classes_)"
   ]
  },
  {
   "cell_type": "code",
   "execution_count": null,
   "id": "c0ee4876",
   "metadata": {},
   "outputs": [],
   "source": [
    "np_image_list = np.array(image_list, dtype=np.float16) / 225.0"
   ]
  },
  {
   "cell_type": "code",
   "execution_count": null,
   "id": "f00e8019",
   "metadata": {},
   "outputs": [],
   "source": [
    "print(\"[INFO] Spliting data to train, test\")\n",
    "x_train, x_test, y_train, y_test = train_test_split(np_image_list, image_labels, test_size=0.2, random_state = 42) "
   ]
  },
  {
   "cell_type": "code",
   "execution_count": null,
   "id": "56042f41",
   "metadata": {},
   "outputs": [],
   "source": []
  },
  {
   "cell_type": "code",
   "execution_count": null,
   "id": "d15a92b6",
   "metadata": {},
   "outputs": [],
   "source": []
  },
  {
   "cell_type": "code",
   "execution_count": null,
   "id": "95b832ed",
   "metadata": {},
   "outputs": [],
   "source": []
  },
  {
   "cell_type": "code",
   "execution_count": null,
   "id": "466d0ec8",
   "metadata": {},
   "outputs": [],
   "source": []
  },
  {
   "cell_type": "code",
   "execution_count": null,
   "metadata": {},
   "outputs": [],
   "source": []
  }
 ],
 "metadata": {
  "kernelspec": {
   "display_name": "learn-env",
   "language": "python",
   "name": "python3"
  },
  "language_info": {
   "name": "python",
   "version": "3.8.5"
  }
 },
 "nbformat": 4,
 "nbformat_minor": 5
}
